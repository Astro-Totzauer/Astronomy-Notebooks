{
 "cells": [
  {
   "cell_type": "markdown",
   "metadata": {},
   "source": [
    "This program will allow the user to determine the presence of any solar radiation storms from user-provided GOES satellite data.\n",
    "Make sure the EPEAD and HEPAD .csv files are saved to the same directory as this notebook file before running."
   ]
  },
  {
   "cell_type": "code",
   "execution_count": 1,
   "metadata": {},
   "outputs": [],
   "source": [
    "import warnings\n",
    "warnings.simplefilter('ignore', FutureWarning)\n",
    "warnings.filterwarnings(\"ignore\", category=RuntimeWarning) \n",
    "from pandas import *\n",
    "from numpy import  *\n",
    "from calendar import monthrange\n",
    "import math\n",
    "%matplotlib inline"
   ]
  },
  {
   "cell_type": "code",
   "execution_count": 2,
   "metadata": {},
   "outputs": [
    {
     "name": "stdin",
     "output_type": "stream",
     "text": [
      "Which year? (Enter 4 digit number)  2011\n",
      "Which month? (Enter 2 digit number)  03\n",
      "Which GOES satellite? (Enter 2 digit number)  15\n"
     ]
    }
   ],
   "source": [
    "#Step One - ask user to input year, month and satellite number\n",
    "YYYY=input('Which year? (Enter 4 digit number) ')\n",
    "MM=input('Which month? (Enter 2 digit number) ')\n",
    "NN=input('Which GOES satellite? (Enter 2 digit number) ')\n",
    "DD=str(monthrange(int(YYYY),int(MM))[1])\n"
   ]
  },
  {
   "cell_type": "code",
   "execution_count": 3,
   "metadata": {},
   "outputs": [],
   "source": [
    "#Step Two - read in the CSV files using the user-inputted values in step one, and set the rows in each file contianing the column headers\n",
    "EPEAD='https://www.ncei.noaa.gov/data/goes-space-environment-monitor/access/avg/'+YYYY+'/'+MM+'/goes'+NN+'/csv/g'+NN+'_epead_p17ew_5m_'+YYYY+MM+'01_'+YYYY+MM+DD+'.csv'\n",
    "HEPAD='https://www.ncei.noaa.gov/data/goes-space-environment-monitor/access/avg/'+YYYY+'/'+MM+'/goes'+NN+'/csv/g'+NN+'_hepad_ap_5m_'+YYYY+MM+'01_'+YYYY+MM+DD+'.csv'\n",
    "nEhead=672+int(DD)\n",
    "nHhead=254+int(DD)\n",
    "dfE=read_csv(EPEAD,header=nEhead)\n",
    "dfH=read_csv(HEPAD,header=nHhead)\n",
    "\n",
    "\n",
    "#Step Three - Convert athe time_tag values to datetime64 format.\n",
    "dfE['time_tag'] = to_datetime(dfE['time_tag'])\n",
    "dfH['time_tag'] = to_datetime(dfH['time_tag'])\n"
   ]
  },
  {
   "cell_type": "code",
   "execution_count": 4,
   "metadata": {},
   "outputs": [],
   "source": [
    "# Step Four - Remove the rows containing non-zero quality flags.\n",
    "dfE['TOT_QUAL'] = dfE.filter(items=[\"P2E_QUAL_FLAG\", \"P2W_QUAL_FLAG\",\"P3E_QUAL_FLAG\",\"P3W_QUAL_FLAG\",\"P4E_QUAL_FLAG\",\"P4W_QUAL_FLAG\",\"P5E_QUAL_FLAG\",\"P5W_QUAL_FLAG\",\"P6E_QUAL_FLAG\",\"P6W_QUAL_FLAG\",\"P7E_QUAL_FLAG\",\"P7W_QUAL_FLAG\"]).sum(axis=1)\n",
    "dfE = dfE[dfE.TOT_QUAL == 0]\n",
    "dfH['TOT_QUAL']=dfH.filter(items=[\"P8_QUAL_FLAG\",\"P9_QUAL_FLAG\",\"P10_QUAL_FLAG\",\"P11_QUAL_FLAG\"]).sum(axis=1)\n",
    "dfH = dfH[dfH.TOT_QUAL == 0]\n"
   ]
  },
  {
   "cell_type": "code",
   "execution_count": 5,
   "metadata": {},
   "outputs": [],
   "source": [
    "# Step Five - Average the east and west values in the EPEAD file so we have one set of readings for each channel as we do with HEPAD\n",
    "dfE['P2_FLUX']=(dfE['P2E_COR_FLUX']+dfE['P2W_COR_FLUX'])/2\n",
    "dfE['P3_FLUX']=(dfE['P3E_COR_FLUX']+dfE['P3W_COR_FLUX'])/2\n",
    "dfE['P4_FLUX']=(dfE['P4E_COR_FLUX']+dfE['P4W_COR_FLUX'])/2\n",
    "dfE['P5_FLUX']=(dfE['P5E_COR_FLUX']+dfE['P5W_COR_FLUX'])/2\n",
    "dfE['P6_FLUX']=(dfE['P6E_COR_FLUX']+dfE['P6W_COR_FLUX'])/2\n",
    "dfE['P7_FLUX']=(dfE['P7E_COR_FLUX']+dfE['P7W_COR_FLUX'])/2\n",
    "\n",
    "# Step Six - Update each file to keep only the revelant columns - flux for each channel and times\n",
    "dfE_headings = ['time_tag', 'P2_FLUX', 'P3_FLUX', 'P4_FLUX', 'P5_FLUX','P6_FLUX', 'P7_FLUX']\n",
    "dfE = dfE[dfE_headings]\n",
    "dfH_headings = ['time_tag', 'P8_FLUX','P9_FLUX','P10_FLUX','P11_FLUX']\n",
    "dfH = dfH[dfH_headings]"
   ]
  },
  {
   "cell_type": "code",
   "execution_count": 6,
   "metadata": {},
   "outputs": [],
   "source": [
    "# Step Seven - Join the two files so we have one file containing all the data, headers and times we kept in step six\n",
    "dfEH = dfE.merge(dfH, how='left', on='time_tag')"
   ]
  },
  {
   "cell_type": "code",
   "execution_count": 7,
   "metadata": {},
   "outputs": [],
   "source": [
    "# Step Eight - Determine the effective energy of each channel v\n",
    "E2 = (4.2*8.7)**0.5\n",
    "E3 = (8.7*14.5)**0.5\n",
    "E4 = (15.0*40.0)**0.5\n",
    "E5 = (38.0*82.0)**0.5\n",
    "E6 = (84.0*200.0)**0.5\n",
    "E7 = (110.0*900.0)**0.5\n",
    "E8 = (330.0*420.0)**0.5\n",
    "E9 = (420.0*510.0)**0.5\n",
    "E10 = (510.0*700.0)**0.5\n",
    "E11 = 1000.0\n",
    "\n"
   ]
  },
  {
   "cell_type": "code",
   "execution_count": 8,
   "metadata": {},
   "outputs": [],
   "source": [
    "# Step Nine - Find piecewise power-law slope and normalization between each energy value from step eight.\n",
    "dfEH['alpha_23'] = (log10(dfEH['P3_FLUX'])-log10(dfEH['P2_FLUX'])) / (log10(E3)-log10(E2))\n",
    "dfEH['A_23'] = 10**(log10(dfEH['P2_FLUX'])-(dfEH['alpha_23']*log10(E2)))\n",
    "dfEH['alpha_34'] = (log10(dfEH['P4_FLUX'])-log10(dfEH['P3_FLUX'])) / (log10(E4)-log10(E3))\n",
    "dfEH['A_34'] = 10**(log10(dfEH['P3_FLUX'])-(dfEH['alpha_34']*log10(E3)))\n",
    "dfEH['alpha_45'] = (log10(dfEH['P5_FLUX'])-log10(dfEH['P4_FLUX'])) / (log10(E5)-log10(E4))\n",
    "dfEH['A_45'] = 10**(log10(dfEH['P4_FLUX'])-(dfEH['alpha_45']*log10(E4)))\n",
    "dfEH['alpha_56'] = (log10(dfEH['P6_FLUX'])-log10(dfEH['P5_FLUX'])) / (log10(E6)-log10(E5))\n",
    "dfEH['A_56'] = 10**(log10(dfEH['P5_FLUX'])-(dfEH['alpha_56']*log10(E5)))\n",
    "dfEH['alpha_67'] = (log10(dfEH['P7_FLUX'])-log10(dfEH['P6_FLUX'])) / (log10(E7)-log10(E6))\n",
    "dfEH['A_67'] = 10**(log10(dfEH['P6_FLUX'])-(dfEH['alpha_67']*log10(E6)))\n",
    "dfEH['alpha_78'] = (log10(dfEH['P8_FLUX'])-log10(dfEH['P7_FLUX'])) / (log10(E8)-log10(E7))\n",
    "dfEH['A_78'] = 10**(log10(dfEH['P7_FLUX'])-(dfEH['alpha_78']*log10(E7)))\n",
    "dfEH['alpha_89'] = (log10(dfEH['P9_FLUX'])-log10(dfEH['P8_FLUX'])) / (log10(E9)-log10(E8))\n",
    "dfEH['A_89'] = 10**(log10(dfEH['P8_FLUX'])-(dfEH['alpha_89']*log10(E8)))\n",
    "dfEH['alpha_910'] = (log10(dfEH['P10_FLUX'])-log10(dfEH['P9_FLUX'])) / (log10(E10)-log10(E9))\n",
    "dfEH['A_910'] = 10**(log10(dfEH['P9_FLUX'])-(dfEH['alpha_910']*log10(E9)))\n",
    "dfEH['alpha_1011'] = (log10(dfEH['P11_FLUX'])-log10(dfEH['P10_FLUX'])) / (log10(E11)-log10(E10))\n",
    "dfEH['A_1011'] = 10**(log10(dfEH['P10_FLUX'])-(dfEH['alpha_1011']*log10(E10)))"
   ]
  },
  {
   "cell_type": "code",
   "execution_count": 9,
   "metadata": {},
   "outputs": [],
   "source": [
    "# Step Ten - Calculate integrated flux from 10 MeV to 1000 MeV for each channel.\n",
    "dfEH['totflux_23'] = (dfEH['A_23']/(dfEH['alpha_23']+1))*(E3**(dfEH['alpha_23']+1)-E2**(dfEH['alpha_23']+1))\n",
    "dfEH['totflux_34'] = (dfEH['A_34']/(dfEH['alpha_34']+1))*(E4**(dfEH['alpha_34']+1)-E3**(dfEH['alpha_34']+1))\n",
    "dfEH['totflux_45'] = (dfEH['A_45']/(dfEH['alpha_45']+1))*(E5**(dfEH['alpha_45']+1)-E4**(dfEH['alpha_45']+1))\n",
    "dfEH['totflux_56'] = (dfEH['A_56']/(dfEH['alpha_56']+1))*(E6**(dfEH['alpha_56']+1)-E5**(dfEH['alpha_56']+1))\n",
    "dfEH['totflux_67'] = (dfEH['A_67']/(dfEH['alpha_67']+1))*(E7**(dfEH['alpha_67']+1)-E6**(dfEH['alpha_67']+1))\n",
    "dfEH['totflux_78'] = (dfEH['A_78']/(dfEH['alpha_78']+1))*(E8**(dfEH['alpha_78']+1)-E7**(dfEH['alpha_78']+1))\n",
    "dfEH['totflux_89'] = (dfEH['A_89']/(dfEH['alpha_89']+1))*(E9**(dfEH['alpha_89']+1)-E8**(dfEH['alpha_89']+1))\n",
    "dfEH['totflux_910'] = (dfEH['A_910']/(dfEH['alpha_910']+1))*(E10**(dfEH['alpha_910']+1)-E9**(dfEH['alpha_910']+1))\n",
    "dfEH['totflux_1011'] = (dfEH['A_1011']/(dfEH['alpha_1011']+1))*(E11**(dfEH['alpha_1011']+1)-E10**(dfEH['alpha_1011']+1))"
   ]
  },
  {
   "cell_type": "code",
   "execution_count": 10,
   "metadata": {},
   "outputs": [],
   "source": [
    "# Step Eleven - Total the integrated flux values for each time, then add a column containing the log of these totals to get any present storm's rating\n",
    "dfEH['totflux'] = dfEH.filter(items=[\"totflux_23\",\"totflux_34\",\"totflux_45\",\"totflux_56\",\"totflux_67\",\"totflux_78\",\"totflux_89\",\"totflux_910\",\"totflux_1011\"]).sum(axis=1)\n",
    "dfEH['storm'] = log10(dfEH['totflux'])\n",
    "dfEH['storm'] = dfEH['storm'].apply(floor)\n",
    "\n",
    "# Step Twelve - Convert the dataframe index to the datetime values (this will make it easier to plot the data, and for printing these values in the next step)\n",
    "dfEH.set_index(['time_tag'],inplace=True)"
   ]
  },
  {
   "cell_type": "code",
   "execution_count": 11,
   "metadata": {},
   "outputs": [
    {
     "name": "stdout",
     "output_type": "stream",
     "text": [
      "The maximum proton flux for this period was 81.858 which occurred at 2011-03-08 07:30:00. This corresponds to a S1-class solar radiation storm.\n"
     ]
    }
   ],
   "source": [
    "# Step Thirteen - Find the datetime value corresponding to the maximum proton flux measurement\n",
    "max_values = dfEH.loc[dfEH['totflux'].idxmax()]\n",
    "date = max_values.name.strftime('%Y-%m-%d %X')\n",
    "storm_rating = int(max_values['storm'])\n",
    "max_flux = round(max_values['totflux'],3)\n",
    "if storm_rating > 0:\n",
    "    print('The maximum proton flux for this period was '+str(max_flux)+' which occurred at '+str(date)+'. This corresponds to a S'+str(storm_rating)+'-class solar radiation storm.')\n",
    "else:\n",
    "    print('There were no solar radiation storms present during this period')\n"
   ]
  },
  {
   "cell_type": "code",
   "execution_count": 12,
   "metadata": {},
   "outputs": [
    {
     "data": {
      "text/plain": [
       "[]"
      ]
     },
     "execution_count": 12,
     "metadata": {},
     "output_type": "execute_result"
    },
    {
     "data": {
      "image/png": "[encoded data removed]",
      "text/plain": [
       "<Figure size 432x288 with 1 Axes>"
      ]
     },
     "metadata": {
      "needs_background": "light"
     },
     "output_type": "display_data"
    }
   ],
   "source": [
    "# Step Fourteen - Plot the datetimes and total flux values\n",
    "ax = dfEH.plot(y='totflux',logy=True, title='Integrated Proton Flux For March, 2023',legend=False)\n",
    "ax.set_xlabel('Date')\n",
    "ax.set_ylabel('Integrated Proton Count')\n",
    "ax.plot()"
   ]
  },
  {
   "cell_type": "code",
   "execution_count": null,
   "metadata": {},
   "outputs": [],
   "source": []
  }
 ],
 "metadata": {
  "kernelspec": {
   "display_name": "Python 3 (ipykernel)",
   "language": "python",
   "name": "python3"
  },
  "language_info": {
   "codemirror_mode": {
    "name": "ipython",
    "version": 3
   },
   "file_extension": ".py",
   "mimetype": "text/x-python",
   "name": "python",
   "nbconvert_exporter": "python",
   "pygments_lexer": "ipython3",
   "version": "3.10.12"
  }
 },
 "nbformat": 4,
 "nbformat_minor": 4
}
